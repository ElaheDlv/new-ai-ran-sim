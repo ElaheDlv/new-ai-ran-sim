{
  "cells": [
    {
      "cell_type": "markdown",
      "metadata": {},
      "source": [
        "# Trace Replay Debug Notebook\n\n",
        "Use this notebook to validate reading and replaying CSV traces outside the full simulator.\n",
        "It loads raw packet CSVs, aggregates into (t, dl, ul) samples, and simulates the enqueue/serve loop."
      ]
    },
    {
      "cell_type": "code",
      "execution_count": null,
      "metadata": {},
      "outputs": [],
      "source": [
        "# Path setup: run this notebook from the repo root (recommended).\n",
        "# If running from elsewhere, adjust the search below.\n",
        "import os, sys, json, math\n",
        "from pathlib import Path\n",
        "\n",
        "def _add_backend_to_path():\n",
        "    candidates = [\n",
        "        Path.cwd() / 'backend',\n",
        "        Path.cwd().parent / 'backend',\n",
        "        Path.cwd().parent.parent / 'backend',\n",
        "    ]\n",
        "    for p in candidates:\n",
        "        if (p / '__init__.py').exists() or (p / 'settings').exists():\n",
        "            sys.path.insert(0, str(p))\n",
        "            return p\n",
        "    return None\n",
        "\n",
        "backend_path = _add_backend_to_path()\n",
        "print('Using backend path:', backend_path)\n",
        "assert backend_path is not None, 'Could not locate backend package. Start Jupyter at repo root.'\n"
      ]
    },
    {
      "cell_type": "code",
      "execution_count": null,
      "metadata": {},
      "outputs": [],
      "source": [
        "# Imports from the backend\n",
        "import importlib\n",
        "import settings\n",
        "from utils.traffic_trace import (\n",
        "    validate_raw_packet_trace_csv,\n",
        "    load_raw_packet_csv,\n",
        ")\n",
        "from network_layer.ue import UE\n",
        "print('Settings loaded. SIM_STEP_TIME_DEFAULT =', settings.SIM_STEP_TIME_DEFAULT)\n"
      ]
    },
    {
      "cell_type": "code",
      "execution_count": null,
      "metadata": {},
      "outputs": [],
      "source": [
        "# Configuration for experiments\n",
        "UE_IP = '172.30.1.1'  # used to classify DL/UL in raw CSVs\n",
        "TRACE_BIN = 1.0       # seconds (binning for raw CSV aggregation)\n",
        "OVERHEAD_BYTES = 70   # per-packet header/trailer subtraction\n",
        "SPEEDUP = 1.0         # time scaling for replay\n",
        "STEP_S = 1.0          # simulation step size for this harness\n",
        "CAP_Mbps = 20.0       # constant serving capacity in Mbps\n",
        "FILES = [\n",
        "    'backend/assets/traces/embb_04_10.csv',\n",
        "    'backend/assets/traces/urllc_04_10.csv',\n",
        "    'backend/assets/traces/mmtc_04_10.csv',\n",
        "]\n",
        "FILES = [f for f in FILES if Path(f).exists()]\n",
        "FILES\n"
      ]
    },
    {
      "cell_type": "code",
      "execution_count": null,
      "metadata": {},
      "outputs": [],
      "source": [
        "# Validate the raw packet CSVs\n",
        "for f in FILES:\n",
        "    res = validate_raw_packet_trace_csv(f)\n",
        "    print('\nFile:', f)\n",
        "    print('  exists=', res['exists'], 'valid=', res['valid'])\n",
        "    print('  columns=', res.get('columns'))\n",
        "    print('  sample_rows_parsed=', res.get('sample_count'), 'ue_ip_auto=', res.get('detected_ue_ip'))\n",
        "    if not res['valid']:\n",
        "        print('  error=', res.get('error'))\n"
      ]
    },
    {
      "cell_type": "code",
      "execution_count": null,
      "metadata": {},
      "outputs": [],
      "source": [
        "# Load samples from one file for inspection\n",
        "def load_samples(path, ue_ip=UE_IP, bin_s=TRACE_BIN, overhead=OVERHEAD_BYTES):\n",
        "    samples = load_raw_packet_csv(path, ue_ip=ue_ip, bin_s=bin_s, overhead_sub_bytes=overhead)\n",
        "    # Basic stats\n",
        "    if samples:\n",
        "        total_dl = sum(int(s[1] or 0) for s in samples)\n",
        "        total_ul = sum(int(s[2] or 0) for s in samples)\n",
        "        duration = samples[-1][0] - samples[0][0] if len(samples) > 1 else 0.0\n",
        "        print(f'samples={len(samples)}, duration={duration:.3f}s, total_dl={total_dl}B, total_ul={total_ul}B')\n",
        "        print('head:', samples[:5])\n",
        "        print('tail:', samples[-5:])\n",
        "    else:\n",
        "        print('No samples parsed.')\n",
        "    return samples\n",
        "\n",
        "SAMPLES = load_samples(FILES[0])\n"
      ]
    },
    {
      "cell_type": "code",
      "execution_count": null,
      "metadata": {},
      "outputs": [],
      "source": [
        "# Simple replay harness using UE.attach_trace + _tick_trace logic\n",
        "class SimpleReplayer:\n",
        "    def __init__(self, samples, speedup=SPEEDUP):\n",
        "        self.ue = UE(simulation_engine=None)\n",
        "        self.ue.attach_trace(samples, speedup)\n",
        "        self.enq_total = 0\n",
        "        self.served_total = 0\n",
        "        self.history = []  # list of dicts per step\n",
        "\n",
        "    def step(self, dt=STEP_S, cap_mbps=CAP_Mbps):\n",
        "        # Enqueue from trace\n",
        "        idx_before = getattr(self.ue, '_trace_idx', 0)\n",
        "        self.ue._tick_trace(dt)\n",
        "        enq_dl = getattr(self.ue, '_trace_enqueued_dl_last', 0)\n",
        "        # Serve from buffer with constant capacity\n",
        "        cap_bytes = int((cap_mbps * 1e6) * dt / 8.0)\n",
        "        take = min(self.ue.dl_buffer_bytes, cap_bytes)\n",
        "        self.ue.dl_buffer_bytes -= take\n",
        "        self.ue._trace_served_dl_last = take\n",
        "        self.ue._trace_served_dl_total += take\n",
        "        self.enq_total += enq_dl\n",
        "        self.served_total += take\n",
        "        self.history.append({\n",
        "            'enq_dl': enq_dl,\n",
        "            'served': take,\n",
        "            'buf_dl': self.ue.dl_buffer_bytes,\n",
        "            'idx': getattr(self.ue, '_trace_idx', 0),\n",
        "        })\n",
        "        return self.history[-1]\n",
        "\n",
        "    def run(self, steps=30, dt=STEP_S, cap_mbps=CAP_Mbps, verbose=True):\n",
        "        for s in range(steps):\n",
        "            rec = self.step(dt, cap_mbps)\n",
        "            if verbose and s < 10:  # print first few\n",
        "                print(f'step={s} enq={rec[\'enq_dl\']}B served={rec[\'served\']}B buf={rec[\'buf_dl\']}B idx={rec[\'idx\']}')\n",
        "        ok = (self.enq_total == self.served_total + self.ue.dl_buffer_bytes)\n",
        "        print(f'\nSummary: enq={self.enq_total}B served={self.served_total}B remaining_buf={self.ue.dl_buffer_bytes}B ->', 'OK' if ok else 'MISMATCH')\n",
        "        return ok\n"
      ]
    },
    {
      "cell_type": "code",
      "execution_count": null,
      "metadata": {},
      "outputs": [],
      "source": [
        "# Try the harness on the first file\n",
        "replayer = SimpleReplayer(SAMPLES, speedup=SPEEDUP)\n",
        "replayer.run(steps=30, dt=STEP_S, cap_mbps=CAP_Mbps, verbose=True)\n"
      ]
    },
    {
      "cell_type": "code",
      "execution_count": null,
      "metadata": {},
      "outputs": [],
      "source": [
        "# Batch run for all files and a couple of capacities\n",
        "def run_batch(files=FILES, cap_list=(10.0, 50.0)):\n",
        "    for f in files:\n",
        "        print('\n===', f, '===')\n",
        "        samples = load_samples(f)\n",
        "        for cap in cap_list:\n",
        "            print(f'\nCapacity {cap} Mbps')\n",
        "            r = SimpleReplayer(samples, speedup=SPEEDUP)\n",
        "            r.run(steps=30, dt=STEP_S, cap_mbps=cap, verbose=False)\n",
        "\n",
        "run_batch()\n"
      ]
    },
    {
      "cell_type": "code",
      "execution_count": null,
      "metadata": {},
      "outputs": [],
      "source": [
        "# Optional: visualize served vs enqueued with matplotlib (if installed)\n",
        "try:\n",
        "    import matplotlib.pyplot as plt\n",
        "    h = replayer.history\n",
        "    enq = [x['enq_dl']*8/1e6 for x in h]   # Mb per step\n",
        "    srv = [x['served']*8/1e6 for x in h]\n",
        "    plt.figure(figsize=(8,3))\n",
        "    plt.plot(enq, label='enqueued (Mb/step)')\n",
        "    plt.plot(srv, label='served (Mb/step)')\n",
        "    plt.legend(); plt.title('Trace enqueue vs served'); plt.show()\n",
        "except Exception as e:\n",
        "    print('Plot skipped:', e)\n"
      ]
    }
  ],
  "metadata": {
    "kernelspec": {
      "display_name": "Python 3",
      "language": "python",
      "name": "python3"
    },
    "language_info": {
      "name": "python",
      "version": "3.x"
    }
  },
  "nbformat": 4,
  "nbformat_minor": 5
}

