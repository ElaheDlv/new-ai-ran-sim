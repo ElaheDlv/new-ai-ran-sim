{
 "cells": [
  {
   "cell_type": "code",
   "execution_count": 1,
   "id": "04493ca9",
   "metadata": {},
   "outputs": [
    {
     "name": "stdout",
     "output_type": "stream",
     "text": [
      "Using backend path: /home/elahe/user/elahe/new-ai-ran-sim/backend\n"
     ]
    }
   ],
   "source": [
    "import sys\n",
    "from pathlib import Path\n",
    "\n",
    "def add_backend_to_path():\n",
    "    roots = [Path.cwd(), Path.cwd().parent, Path.cwd().parent.parent]\n",
    "    for r in roots:\n",
    "        b = r / \"backend\"\n",
    "        if (b / \"utils\").exists():\n",
    "            sys.path.insert(0, str(b))\n",
    "            print(\"Using backend path:\", b)\n",
    "            return b\n",
    "    raise RuntimeError(\"Could not find ./backend. Start Jupyter from repo root.\")\n",
    "\n",
    "BACKEND = add_backend_to_path()\n"
   ]
  },
  {
   "cell_type": "code",
   "execution_count": 2,
   "id": "4afbe012",
   "metadata": {},
   "outputs": [],
   "source": [
    "from utils.traffic_trace import (\n",
    "    validate_raw_packet_trace_csv,\n",
    "    validate_preaggregated_trace_csv,\n",
    "    load_raw_packet_csv,\n",
    "    load_csv_trace,\n",
    ")\n",
    "from pathlib import Path\n"
   ]
  },
  {
   "cell_type": "code",
   "execution_count": 4,
   "id": "72ee6414",
   "metadata": {},
   "outputs": [
    {
     "name": "stdout",
     "output_type": "stream",
     "text": [
      "['backend/assets/traces/embb_04_10.csv', 'backend/assets/traces/urllc_04_10.csv', 'backend/assets/traces/mmtc_04_10.csv']\n",
      "Files: []\n"
     ]
    }
   ],
   "source": [
    "# For raw CSVs (Wireshark exports)\n",
    "UE_IP = \"172.30.1.1\"   # used to classify DL/UL\n",
    "TRACE_BIN = 1.0        # seconds\n",
    "OVERHEAD_BYTES = 70    # per-packet header/trailer subtraction\n",
    "\n",
    "# Replay harness parameters\n",
    "SPEEDUP = 1.0          # 1.0 = realtime\n",
    "STEP_S = 1.0           # step size of the harness\n",
    "CAP_Mbps = 20.0        # constant capacity used to 'serve' from buffer\n",
    "\n",
    "# Files to test\n",
    "FILES = [\n",
    "    \"backend/assets/traces/embb_04_10.csv\",\n",
    "    \"backend/assets/traces/urllc_04_10.csv\",\n",
    "    \"backend/assets/traces/mmtc_04_10.csv\",\n",
    "]\n",
    "print(FILES)\n",
    "FILES = [f for f in FILES if Path(f).exists()]\n",
    "print(\"Files:\", FILES)\n"
   ]
  },
  {
   "cell_type": "code",
   "execution_count": 6,
   "id": "f609e576",
   "metadata": {},
   "outputs": [
    {
     "name": "stdout",
     "output_type": "stream",
     "text": [
      "BACKEND: /home/elahe/user/elahe/new-ai-ran-sim/backend\n",
      "Files: ['/home/elahe/user/elahe/new-ai-ran-sim/backend/assets/traces/embb_04_10.csv', '/home/elahe/user/elahe/new-ai-ran-sim/backend/assets/traces/urllc_04_10.csv', '/home/elahe/user/elahe/new-ai-ran-sim/backend/assets/traces/mmtc_04_10.csv']\n"
     ]
    }
   ],
   "source": [
    "from pathlib import Path\n",
    "\n",
    "def find_backend(start: Path = Path.cwd()) -> Path:\n",
    "    p = start\n",
    "    for _ in range(7):\n",
    "        if p.name == 'backend' and (p/'assets'/'traces').exists():\n",
    "            return p\n",
    "        if (p/'backend'/'assets'/'traces').exists():\n",
    "            return p/'backend'\n",
    "        p = p.parent\n",
    "    raise FileNotFoundError('backend/assets/traces not found upward from ' + str(start))\n",
    "\n",
    "BACKEND = find_backend()\n",
    "TRACES = BACKEND / 'assets' / 'traces'\n",
    "FILES = [str(TRACES / n) for n in ('embb_04_10.csv','urllc_04_10.csv','mmtc_04_10.csv') if (TRACES / n).exists()]\n",
    "print('BACKEND:', BACKEND)\n",
    "print('Files:', FILES)\n"
   ]
  },
  {
   "cell_type": "code",
   "execution_count": 8,
   "id": "c220b90d",
   "metadata": {},
   "outputs": [
    {
     "name": "stdout",
     "output_type": "stream",
     "text": [
      "\n",
      "File: /home/elahe/user/elahe/new-ai-ran-sim/backend/assets/traces/embb_04_10.csv\n",
      "  exists= True valid= True\n",
      "  columns= {'time': 'time', 'src': 'source', 'dst': 'destination', 'len': 'length'}\n",
      "  sample_rows_parsed= 100 ue_ip_auto= 172.30.1.1\n",
      "\n",
      "File: /home/elahe/user/elahe/new-ai-ran-sim/backend/assets/traces/urllc_04_10.csv\n",
      "  exists= True valid= True\n",
      "  columns= {'time': 'time', 'src': 'source', 'dst': 'destination', 'len': 'length'}\n",
      "  sample_rows_parsed= 100 ue_ip_auto= 172.30.1.1\n",
      "\n",
      "File: /home/elahe/user/elahe/new-ai-ran-sim/backend/assets/traces/mmtc_04_10.csv\n",
      "  exists= True valid= True\n",
      "  columns= {'time': 'time', 'src': 'source', 'dst': 'destination', 'len': 'length'}\n",
      "  sample_rows_parsed= 100 ue_ip_auto= 172.30.1.1\n"
     ]
    }
   ],
   "source": [
    "# Raw packet CSVs\n",
    "for f in FILES:\n",
    "    res = validate_raw_packet_trace_csv(f)\n",
    "    print(\"\\nFile:\", f)\n",
    "    print(\"  exists=\", res[\"exists\"], \"valid=\", res[\"valid\"])\n",
    "    print(\"  columns=\", res.get(\"columns\"))\n",
    "    print(\"  sample_rows_parsed=\", res.get(\"sample_count\"), \"ue_ip_auto=\", res.get(\"detected_ue_ip\"))\n",
    "    if not res[\"valid\"]:\n",
    "        print(\"  error=\", res.get(\"error\"))\n",
    "\n",
    "# If you have pre-aggregated CSVs (t_s,dl_bytes[,ul_bytes]):\n",
    "# agg_files = [\"path/to/embb.csv\", \"path/to/urllc.csv\"]\n",
    "# for f in agg_files:\n",
    "#     res = validate_preaggregated_trace_csv(f)\n",
    "#     print(\"\\nAgg File:\", f, \"->\", res)\n"
   ]
  },
  {
   "cell_type": "code",
   "execution_count": 9,
   "id": "f0c5ae32",
   "metadata": {},
   "outputs": [
    {
     "name": "stdout",
     "output_type": "stream",
     "text": [
      "samples=60, duration=294.000s, total_dl=10856852B, total_ul=365094B\n",
      "head: [(0.0, 15048, 9394), (1.0, 20452, 22544), (2.0, 22206, 16332), (3.0, 1020436, 18598), (4.0, 380990, 6054)]\n",
      "tail: [(286.0, 410, 1224), (290.0, 1018498, 51108), (291.0, 410808, 9016), (292.0, 182, 1690), (294.0, 880, 21222)]\n"
     ]
    }
   ],
   "source": [
    "def load_samples_raw(path, ue_ip=UE_IP, bin_s=TRACE_BIN, overhead=OVERHEAD_BYTES):\n",
    "    samples = load_raw_packet_csv(path, ue_ip=ue_ip, bin_s=bin_s, overhead_sub_bytes=overhead)\n",
    "    if samples:\n",
    "        total_dl = sum(int(s[1] or 0) for s in samples)\n",
    "        total_ul = sum(int(s[2] or 0) for s in samples)\n",
    "        duration = samples[-1][0] - samples[0][0] if len(samples) > 1 else 0.0\n",
    "        print(f\"samples={len(samples)}, duration={duration:.3f}s, total_dl={total_dl}B, total_ul={total_ul}B\")\n",
    "        print(\"head:\", samples[:5])\n",
    "        print(\"tail:\", samples[-5:])\n",
    "    else:\n",
    "        print(\"No samples parsed.\")\n",
    "    return samples\n",
    "\n",
    "def load_samples_agg(path):\n",
    "    samples = load_csv_trace(path)\n",
    "    if samples:\n",
    "        total_dl = sum(int(s[1] or 0) for s in samples)\n",
    "        total_ul = sum(int(s[2] or 0) for s in samples)\n",
    "        duration = samples[-1][0] - samples[0][0] if len(samples) > 1 else 0.0\n",
    "        print(f\"samples={len(samples)}, duration={duration:.3f}s, total_dl={total_dl}B, total_ul={total_ul}B\")\n",
    "        print(\"head:\", samples[:5])\n",
    "        print(\"tail:\", samples[-5:])\n",
    "    else:\n",
    "        print(\"No samples parsed.\")\n",
    "    return samples\n",
    "\n",
    "SAMPLES = load_samples_raw(FILES[0])  # choose one file to start\n"
   ]
  },
  {
   "cell_type": "code",
   "execution_count": 10,
   "id": "752b0e83",
   "metadata": {},
   "outputs": [],
   "source": [
    "class SimpleReplayer:\n",
    "    def __init__(self, samples, speedup=SPEEDUP):\n",
    "        self.samples = list(samples)\n",
    "        self.idx = 0\n",
    "        self.clock = 0.0\n",
    "        self.speedup = float(speedup)\n",
    "        self.buf_dl = 0\n",
    "        self.buf_ul = 0\n",
    "        self.enq_total = 0\n",
    "        self.served_total = 0\n",
    "        self.history = []\n",
    "\n",
    "    def _tick_trace(self, dt):\n",
    "        self.clock += dt * self.speedup\n",
    "        step_enq = 0\n",
    "        n = len(self.samples)\n",
    "        while self.idx < n and self.samples[self.idx][0] <= self.clock:\n",
    "            _, dl, ul = self.samples[self.idx]\n",
    "            self.buf_dl += int(dl or 0)\n",
    "            self.buf_ul += int(ul or 0)\n",
    "            step_enq += int(dl or 0)\n",
    "            self.idx += 1\n",
    "        return step_enq\n",
    "\n",
    "    def step(self, dt=STEP_S, cap_mbps=CAP_Mbps):\n",
    "        enq_dl = self._tick_trace(dt)\n",
    "        cap_bytes = int((cap_mbps * 1e6) * dt / 8.0)\n",
    "        take = min(self.buf_dl, cap_bytes)\n",
    "        self.buf_dl -= take\n",
    "        self.enq_total += enq_dl\n",
    "        self.served_total += take\n",
    "        rec = {\"t\": self.clock, \"enq_dl\": enq_dl, \"served\": take, \"buf_dl\": self.buf_dl, \"idx\": self.idx}\n",
    "        self.history.append(rec)\n",
    "        return rec\n",
    "\n",
    "    def run(self, steps=30, dt=STEP_S, cap_mbps=CAP_Mbps, verbose=True):\n",
    "        for s in range(steps):\n",
    "            rec = self.step(dt, cap_mbps)\n",
    "            if verbose and s < 10:\n",
    "                print(f\"step={s} t={rec['t']:.2f}s enq={rec['enq_dl']}B served={rec['served']}B buf={rec['buf_dl']}B idx={rec['idx']}\")\n",
    "        ok = (self.enq_total == self.served_total + self.buf_dl)\n",
    "        print(f\"\\nSummary: enq={self.enq_total}B served={self.served_total}B remaining_buf={self.buf_dl}B -> {'OK' if ok else 'MISMATCH'}\")\n",
    "        return ok\n"
   ]
  },
  {
   "cell_type": "code",
   "execution_count": 11,
   "id": "602bea23",
   "metadata": {},
   "outputs": [
    {
     "name": "stdout",
     "output_type": "stream",
     "text": [
      "step=0 t=1.00s enq=35500B served=35500B buf=0B idx=2\n",
      "step=1 t=2.00s enq=22206B served=22206B buf=0B idx=3\n",
      "step=2 t=3.00s enq=1020436B served=1020436B buf=0B idx=4\n",
      "step=3 t=4.00s enq=380990B served=380990B buf=0B idx=5\n",
      "step=4 t=5.00s enq=187742B served=187742B buf=0B idx=6\n",
      "step=5 t=6.00s enq=0B served=0B buf=0B idx=6\n",
      "step=6 t=7.00s enq=0B served=0B buf=0B idx=7\n",
      "step=7 t=8.00s enq=242B served=242B buf=0B idx=8\n",
      "step=8 t=9.00s enq=0B served=0B buf=0B idx=8\n",
      "step=9 t=10.00s enq=0B served=0B buf=0B idx=8\n",
      "\n",
      "Summary: enq=3043830B served=3043830B remaining_buf=0B -> OK\n"
     ]
    },
    {
     "data": {
      "text/plain": [
       "True"
      ]
     },
     "execution_count": 11,
     "metadata": {},
     "output_type": "execute_result"
    }
   ],
   "source": [
    "replayer = SimpleReplayer(SAMPLES, speedup=SPEEDUP)\n",
    "replayer.run(steps=30, dt=STEP_S, cap_mbps=CAP_Mbps, verbose=True)\n"
   ]
  },
  {
   "cell_type": "code",
   "execution_count": 12,
   "id": "1d2e7c43",
   "metadata": {},
   "outputs": [
    {
     "name": "stdout",
     "output_type": "stream",
     "text": [
      "\n",
      "=== /home/elahe/user/elahe/new-ai-ran-sim/backend/assets/traces/embb_04_10.csv ===\n",
      "samples=60, duration=294.000s, total_dl=10856852B, total_ul=365094B\n",
      "head: [(0.0, 15048, 9394), (1.0, 20452, 22544), (2.0, 22206, 16332), (3.0, 1020436, 18598), (4.0, 380990, 6054)]\n",
      "tail: [(286.0, 410, 1224), (290.0, 1018498, 51108), (291.0, 410808, 9016), (292.0, 182, 1690), (294.0, 880, 21222)]\n",
      "\n",
      "Capacity 10.0 Mbps\n",
      "\n",
      "Summary: enq=3043830B served=3043830B remaining_buf=0B -> OK\n",
      "\n",
      "Capacity 50.0 Mbps\n",
      "\n",
      "Summary: enq=3043830B served=3043830B remaining_buf=0B -> OK\n",
      "\n",
      "=== /home/elahe/user/elahe/new-ai-ran-sim/backend/assets/traces/urllc_04_10.csv ===\n",
      "samples=401, duration=426.000s, total_dl=23957902B, total_ul=14647696B\n",
      "head: [(0.0, 0, 58), (8.0, 14626, 8070), (9.0, 2728, 182), (10.0, 136, 170), (11.0, 106, 68)]\n",
      "tail: [(421.0, 106, 136), (422.0, 186, 136), (423.0, 38, 34), (424.0, 38, 34), (426.0, 0, 34)]\n",
      "\n",
      "Capacity 10.0 Mbps\n",
      "\n",
      "Summary: enq=25410B served=25410B remaining_buf=0B -> OK\n",
      "\n",
      "Capacity 50.0 Mbps\n",
      "\n",
      "Summary: enq=25410B served=25410B remaining_buf=0B -> OK\n",
      "\n",
      "=== /home/elahe/user/elahe/new-ai-ran-sim/backend/assets/traces/mmtc_04_10.csv ===\n",
      "samples=139, duration=338.000s, total_dl=325964B, total_ul=479758B\n",
      "head: [(0.0, 20470, 14882), (1.0, 24858, 91780), (2.0, 24248, 19914), (3.0, 15716, 30538), (4.0, 6850, 23872)]\n",
      "tail: [(332.0, 278, 18), (333.0, 374, 18), (334.0, 1738, 18), (335.0, 442, 1498), (338.0, 0, 2074)]\n",
      "\n",
      "Capacity 10.0 Mbps\n",
      "\n",
      "Summary: enq=123818B served=123818B remaining_buf=0B -> OK\n",
      "\n",
      "Capacity 50.0 Mbps\n",
      "\n",
      "Summary: enq=123818B served=123818B remaining_buf=0B -> OK\n"
     ]
    }
   ],
   "source": [
    "def run_batch(files=FILES, cap_list=(10.0, 50.0)):\n",
    "    for f in files:\n",
    "        print(\"\\n===\", f, \"===\")\n",
    "        samples = load_samples_raw(f)\n",
    "        for cap in cap_list:\n",
    "            print(f\"\\nCapacity {cap} Mbps\")\n",
    "            SimpleReplayer(samples, speedup=SPEEDUP).run(steps=30, dt=STEP_S, cap_mbps=cap, verbose=False)\n",
    "\n",
    "run_batch()\n"
   ]
  },
  {
   "cell_type": "code",
   "execution_count": 13,
   "id": "ba422b1c",
   "metadata": {},
   "outputs": [
    {
     "data": {
      "image/png": "[encoded data removed]",
      "text/plain": [
       "<Figure size 800x300 with 1 Axes>"
      ]
     },
     "metadata": {},
     "output_type": "display_data"
    }
   ],
   "source": [
    "try:\n",
    "    import matplotlib.pyplot as plt\n",
    "    h = replayer.history\n",
    "    enq = [r[\"enq_dl\"] * 8 / 1e6 for r in h]\n",
    "    srv = [r[\"served\"] * 8 / 1e6 for r in h]\n",
    "    plt.figure(figsize=(8,3))\n",
    "    plt.plot(enq, label=\"enqueued (Mb/step)\")\n",
    "    plt.plot(srv, label=\"served (Mb/step)\")\n",
    "    plt.legend(); plt.title(\"Trace enqueue vs served\"); plt.show()\n",
    "except Exception as e:\n",
    "    print(\"Plot skipped:\", e)\n"
   ]
  }
 ],
 "metadata": {
  "kernelspec": {
   "display_name": "airansim",
   "language": "python",
   "name": "python3"
  },
  "language_info": {
   "codemirror_mode": {
    "name": "ipython",
    "version": 3
   },
   "file_extension": ".py",
   "mimetype": "text/x-python",
   "name": "python",
   "nbconvert_exporter": "python",
   "pygments_lexer": "ipython3",
   "version": "3.12.11"
  }
 },
 "nbformat": 4,
 "nbformat_minor": 5
}
